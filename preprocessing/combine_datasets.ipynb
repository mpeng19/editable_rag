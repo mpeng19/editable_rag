{
 "cells": [
  {
   "cell_type": "code",
   "execution_count": 3,
   "metadata": {},
   "outputs": [],
   "source": [
    "from utils import *"
   ]
  },
  {
   "cell_type": "code",
   "execution_count": null,
   "metadata": {},
   "outputs": [],
   "source": [
    "def combine_json_files(filenames):\n",
    "    \"\"\"\n",
    "    Goes through all JSON files in the filenames list and combines their dictionaries into a single dictionary.\n",
    "\n",
    "    Parameters:\n",
    "    -  filenames: list of strings, where each string is a filename\n",
    "\n",
    "    Returns:\n",
    "    -  dictionary containing all key-value pairs from the input files\n",
    "    \"\"\"\n",
    "    combined_data = {}\n",
    "    for filename in filenames:\n",
    "        with open(filename, 'r', encoding = 'utf-8') as f:\n",
    "            data = json.load(f)\n",
    "            combined_data.update(data)\n",
    "    return combined_data"
   ]
  },
  {
   "cell_type": "code",
   "execution_count": null,
   "metadata": {},
   "outputs": [],
   "source": [
    "combined_clean_data = combine_json_files(['../datasets/pre_2021_articles.json', '../datasets/post_2024_articles.json'])\n",
    "combined_adversarial_data = combine_json_files(['../datasets/adversarial_articles_pre_2021.json', '../datasets/adversarial_articles_post_2024.json'])\n",
    "\n",
    "save_json(combined_clean_data, '../datasets/combined_clean_data.json')\n",
    "save_json(combined_adversarial_data, '../datasets/combined_adversarial_data.json')"
   ]
  }
 ],
 "metadata": {
  "kernelspec": {
   "display_name": "base",
   "language": "python",
   "name": "python3"
  },
  "language_info": {
   "codemirror_mode": {
    "name": "ipython",
    "version": 3
   },
   "file_extension": ".py",
   "mimetype": "text/x-python",
   "name": "python",
   "nbconvert_exporter": "python",
   "pygments_lexer": "ipython3",
   "version": "3.10.9"
  }
 },
 "nbformat": 4,
 "nbformat_minor": 2
}
