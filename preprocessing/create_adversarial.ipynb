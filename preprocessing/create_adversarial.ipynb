{
 "cells": [
  {
   "cell_type": "code",
   "execution_count": 1,
   "metadata": {},
   "outputs": [
    {
     "name": "stdout",
     "output_type": "stream",
     "text": [
      "Requirement already satisfied: openai in /Users/michaelpeng/anaconda3/lib/python3.10/site-packages (1.20.0)\n",
      "Requirement already satisfied: distro<2,>=1.7.0 in /Users/michaelpeng/anaconda3/lib/python3.10/site-packages (from openai) (1.9.0)\n",
      "Requirement already satisfied: tqdm>4 in /Users/michaelpeng/anaconda3/lib/python3.10/site-packages (from openai) (4.66.4)\n",
      "Requirement already satisfied: sniffio in /Users/michaelpeng/anaconda3/lib/python3.10/site-packages (from openai) (1.2.0)\n",
      "Requirement already satisfied: pydantic<3,>=1.9.0 in /Users/michaelpeng/anaconda3/lib/python3.10/site-packages (from openai) (2.5.2)\n",
      "Requirement already satisfied: httpx<1,>=0.23.0 in /Users/michaelpeng/anaconda3/lib/python3.10/site-packages (from openai) (0.27.0)\n",
      "Requirement already satisfied: anyio<5,>=3.5.0 in /Users/michaelpeng/anaconda3/lib/python3.10/site-packages (from openai) (3.5.0)\n",
      "Requirement already satisfied: typing-extensions<5,>=4.7 in /Users/michaelpeng/anaconda3/lib/python3.10/site-packages (from openai) (4.8.0)\n",
      "Requirement already satisfied: idna>=2.8 in /Users/michaelpeng/anaconda3/lib/python3.10/site-packages (from anyio<5,>=3.5.0->openai) (3.4)\n",
      "Requirement already satisfied: httpcore==1.* in /Users/michaelpeng/anaconda3/lib/python3.10/site-packages (from httpx<1,>=0.23.0->openai) (1.0.5)\n",
      "Requirement already satisfied: certifi in /Users/michaelpeng/anaconda3/lib/python3.10/site-packages (from httpx<1,>=0.23.0->openai) (2023.5.7)\n",
      "Requirement already satisfied: h11<0.15,>=0.13 in /Users/michaelpeng/anaconda3/lib/python3.10/site-packages (from httpcore==1.*->httpx<1,>=0.23.0->openai) (0.14.0)\n",
      "Requirement already satisfied: annotated-types>=0.4.0 in /Users/michaelpeng/anaconda3/lib/python3.10/site-packages (from pydantic<3,>=1.9.0->openai) (0.6.0)\n",
      "Requirement already satisfied: pydantic-core==2.14.5 in /Users/michaelpeng/anaconda3/lib/python3.10/site-packages (from pydantic<3,>=1.9.0->openai) (2.14.5)\n",
      "Note: you may need to restart the kernel to use updated packages.\n"
     ]
    }
   ],
   "source": [
    "%pip install openai\n",
    "from openai import OpenAI\n",
    "import os\n",
    "from utils import *\n",
    "\n",
    "#setup openai client\n",
    "client = OpenAI(\n",
    "    api_key = os.environ['OPENAI_API_KEY']\n",
    ")"
   ]
  },
  {
   "cell_type": "code",
   "execution_count": 4,
   "metadata": {},
   "outputs": [],
   "source": [
    "def adversarial_edit(article_text, client):\n",
    "    \"\"\"\n",
    "    Takes in a Wikipedia article text and generates an adversarial edit using OpenAI's GPT-4 model.\n",
    "    \n",
    "    Parameters:\n",
    "    - article_text (str): The text of the Wikipedia article to be edited.\n",
    "    - client (openai.ApiClient): An instance of the OpenAI API client.\n",
    "    \n",
    "    Returns:\n",
    "    - str: The adversarially edited article text.\n",
    "    \"\"\"\n",
    "    prompt = (\n",
    "        \"Here is a wikipedia article: \\\"\" + article_text + \"\\\". \"\n",
    "        \"I want to adversarially edit this article so that the information is no longer correct.\\n\"\n",
    "        \"For example, if my article is \\\"George Washington was born in 1732\\\", then after editing, \"\n",
    "        \"the new incorrect article might be \\\"George Washington was born in 1700\\\". \\n\"\n",
    "        \"Please make a maximum of 5-7 changes to the article to make it incorrect.\\n\"\n",
    "        \"Please return the edited adversarial article by itself as the singular output, with no text surrounding it.\"\n",
    "    )\n",
    "    \n",
    "    while True:\n",
    "        try:\n",
    "            completion = client.chat.completions.create(\n",
    "                model=\"gpt-3.5-turbo\",\n",
    "                messages=[\n",
    "                    {\n",
    "                        \"role\": \"system\",\n",
    "                        \"content\": \"You are an AI. Please answer the following questions as if you were an expert on the subject.\",\n",
    "                    },\n",
    "                    {\n",
    "                        \"role\": \"user\",\n",
    "                        \"content\": prompt,\n",
    "                    }\n",
    "                ],\n",
    "                temperature = 0.5,\n",
    "                max_tokens = 1000,\n",
    "                n=1,\n",
    "            )\n",
    "            break\n",
    "        except Exception as e:\n",
    "            print(\"Error:\", e)\n",
    "    \n",
    "    # Extract and return the edited article content\n",
    "    return completion.choices[0].message.content"
   ]
  },
  {
   "cell_type": "code",
   "execution_count": 5,
   "metadata": {},
   "outputs": [],
   "source": [
    "# load datasets\n",
    "post_2024_articles = load_json('../datasets/post_2024_articles.json')\n",
    "pre_2021_articles = load_json('../datasets/pre_2021_articles.json')\n",
    "\n",
    "# load checkpoint\n",
    "if not os.path.exists('../datasets/adversarial_articles_post_2024.json'):\n",
    "    adversarial_articles_post_2024 = {}\n",
    "else:\n",
    "    adversarial_articles_post_2024 = load_json('../datasets/adversarial_articles_post_2024.json')\n",
    "\n",
    "if not os.path.exists('../datasets/adversarial_articles_pre_2021.json'):\n",
    "    adversarial_articles_pre_2021 = {}\n",
    "else:\n",
    "    adversarial_articles_pre_2021 = load_json('../datasets/adversarial_articles_pre_2021.json')\n"
   ]
  },
  {
   "cell_type": "markdown",
   "metadata": {},
   "source": []
  },
  {
   "cell_type": "code",
   "execution_count": 6,
   "metadata": {},
   "outputs": [],
   "source": [
    "# Create adverarial articles\n",
    "for title, article in post_2024_articles.items():\n",
    "    if title not in adversarial_articles_post_2024:\n",
    "        adversarial_articles_post_2024[title] = adversarial_edit(article, client)\n",
    "        print(len(adversarial_articles_post_2024))\n",
    "\n",
    "for title, article in pre_2021_articles.items():\n",
    "    if title not in adversarial_articles_pre_2021:\n",
    "        adversarial_articles_pre_2021[title] = adversarial_edit(article, client)\n",
    "        print(len(adversarial_articles_pre_2021))"
   ]
  },
  {
   "cell_type": "code",
   "execution_count": 10,
   "metadata": {},
   "outputs": [
    {
     "name": "stdout",
     "output_type": "stream",
     "text": [
      "5000\n",
      "5000\n"
     ]
    }
   ],
   "source": [
    "print(len(adversarial_articles_post_2024))\n",
    "print(len(adversarial_articles_pre_2021))"
   ]
  },
  {
   "cell_type": "code",
   "execution_count": 11,
   "metadata": {},
   "outputs": [],
   "source": [
    "with open('../datasets/adversarial_articles_post_2024.json', 'w', encoding = 'utf-8') as f:\n",
    "    json.dump(adversarial_articles_post_2024, f, ensure_ascii=False, indent=4)\n",
    "with open('../datasets/adversarial_articles_pre_2021.json', 'w', encoding = 'utf-8') as f:\n",
    "    json.dump(adversarial_articles_pre_2021, f, ensure_ascii=False, indent=4)"
   ]
  }
 ],
 "metadata": {
  "kernelspec": {
   "display_name": "base",
   "language": "python",
   "name": "python3"
  },
  "language_info": {
   "codemirror_mode": {
    "name": "ipython",
    "version": 3
   },
   "file_extension": ".py",
   "mimetype": "text/x-python",
   "name": "python",
   "nbconvert_exporter": "python",
   "pygments_lexer": "ipython3",
   "version": "3.1.-1"
  }
 },
 "nbformat": 4,
 "nbformat_minor": 2
}
